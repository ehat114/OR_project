{
 "cells": [
  {
   "cell_type": "code",
   "execution_count": null,
   "metadata": {},
   "outputs": [],
   "source": [
    "import numpy as np\n",
    "import pandas as pd\n",
    "import folium\n",
    "import openrouteservice as ors"
   ]
  },
  {
   "cell_type": "code",
   "execution_count": null,
   "metadata": {},
   "outputs": [],
   "source": [
    "key = \"5b3ce3597851110001cf6248d72aa2cd1d544d549b16f94c14b65e0d\""
   ]
  },
  {
   "cell_type": "code",
   "execution_count": null,
   "metadata": {},
   "outputs": [],
   "source": [
    "locations = pd.read_csv(\"Data/WoolworthsLocations.csv\")\n",
    "coords = locations[['Long', 'Lat']] \n",
    "coords = coords.to_numpy().tolist()"
   ]
  },
  {
   "cell_type": "code",
   "execution_count": null,
   "metadata": {},
   "outputs": [],
   "source": [
    "m1 = folium.Map(location=list(reversed(coords[2])), zoom_start=10)\n",
    "m2 = folium.Map(location=list(reversed(coords[2])), zoom_start=10)\n",
    "\n",
    "for i in range(0, len(coords)):\n",
    "    if locations.Type[i] == \"Countdown\":\n",
    "        iconCol = \"green\"\n",
    "    elif locations.Type[i] == \"FreshChoice\":\n",
    "        iconCol = \"blue\"\n",
    "    elif locations.Type[i] == \"SuperValue\":\n",
    "        iconCol = \"red\"\n",
    "    elif locations.Type[i] == \"Countdown Metro\":\n",
    "        iconCol = \"orange\"\n",
    "    elif locations.Type[i] == \"Distribution Centre\":\n",
    "        iconCol = \"black\"\n",
    "    \n",
    "    folium.Marker(list(reversed(coords[i])), popup=locations.Store[i], icon=folium.Icon(color = iconCol)).add_to(m1)\n",
    "    folium.Marker(list(reversed(coords[i])), popup=locations.Store[i], icon=folium.Icon(color = iconCol)).add_to(m2)"
   ]
  },
  {
   "cell_type": "code",
   "execution_count": null,
   "metadata": {},
   "outputs": [],
   "source": [
    "client = ors.Client(key=key)\n",
    "coords_df = pd.read_csv(\"Data/WoolworthsLocations.csv\", index_col=\"Store\")[[\"Lat\", \"Long\"]]\n",
    "regions = pd.read_csv(\"GeneratedFiles/WoolworthsRegions.csv\", index_col=\"Store\")[\"Region\"]"
   ]
  },
  {
   "cell_type": "code",
   "execution_count": null,
   "metadata": {},
   "outputs": [],
   "source": [
    "routes = pd.read_csv(\"GeneratedFiles/WeekdaysSolution.csv\")[\"Path\"]\n",
    "routes = [routes[i][2:-2].split(\"', '\") for i in range(len(routes))]\n",
    "\n",
    "for path in routes:\n",
    "    region = regions[path[0]]\n",
    "    if region == 1:\n",
    "        colour = \"red\"\n",
    "    elif region == 2:\n",
    "        colour = \"blue\"\n",
    "    elif region == 3:\n",
    "        colour = \"green\"\n",
    "    elif region == 4:\n",
    "        colour = \"purple\"\n",
    "    else:\n",
    "        colour = \"orange\"\n",
    "\n",
    "    path = [\"Distribution Centre Auckland\"] + path + [\"Distribution Centre Auckland\"]\n",
    "\n",
    "    route = client.directions(\n",
    "        coordinates = [list(reversed(coords_df.loc[p].values.tolist())) for p in path],\n",
    "        profile = 'driving-hgv', # can be driving-car, driving-hgv, etc.\n",
    "        format='geojson',\n",
    "        validate = False\n",
    "    )\n",
    "\n",
    "    folium.PolyLine(locations=[list(reversed(coord)) for coord in route['features'][0]['geometry']['coordinates']], color=colour).add_to(m1)\n",
    "\n",
    "m1"
   ]
  },
  {
   "cell_type": "code",
   "execution_count": null,
   "metadata": {},
   "outputs": [],
   "source": [
    "routes = pd.read_csv(\"GeneratedFiles/SaturdaysSolution.csv\")[\"Path\"]\n",
    "routes = [routes[i][2:-2].split(\"', '\") for i in range(len(routes))]\n",
    "\n",
    "for path in routes:\n",
    "    region = regions[path[0]]\n",
    "    if region == 1:\n",
    "        colour = \"red\"\n",
    "    elif region == 2:\n",
    "        colour = \"blue\"\n",
    "    elif region == 3:\n",
    "        colour = \"green\"\n",
    "    elif region == 4:\n",
    "        colour = \"purple\"\n",
    "    else:\n",
    "        colour = \"orange\"\n",
    "\n",
    "    path = [\"Distribution Centre Auckland\"] + path + [\"Distribution Centre Auckland\"]\n",
    "\n",
    "    route = client.directions(\n",
    "        coordinates = [list(reversed(coords_df.loc[p].values.tolist())) for p in path],\n",
    "        profile = 'driving-hgv', # can be driving-car, driving-hgv, etc.\n",
    "        format='geojson',\n",
    "        validate = False\n",
    "    )\n",
    "\n",
    "    folium.PolyLine(locations=[list(reversed(coord)) for coord in route['features'][0]['geometry']['coordinates']], color=colour).add_to(m2)\n",
    "\n",
    "m2"
   ]
  }
 ],
 "metadata": {
  "interpreter": {
   "hash": "2bba59fafacf472ee6846c48c58ef7c87c81ffc1921c28929918468d9e4661db"
  },
  "kernelspec": {
   "display_name": "Python 3.9.0 64-bit",
   "name": "python3"
  },
  "language_info": {
   "codemirror_mode": {
    "name": "ipython",
    "version": 3
   },
   "file_extension": ".py",
   "mimetype": "text/x-python",
   "name": "python",
   "nbconvert_exporter": "python",
   "pygments_lexer": "ipython3",
   "version": "3.9.0"
  },
  "orig_nbformat": 4
 },
 "nbformat": 4,
 "nbformat_minor": 2
}
