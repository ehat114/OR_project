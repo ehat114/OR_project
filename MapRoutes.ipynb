{
 "cells": [
  {
   "cell_type": "code",
   "execution_count": null,
   "source": [
    "import numpy as np\r\n",
    "import pandas as pd\r\n",
    "import folium\r\n",
    "import openrouteservice as ors"
   ],
   "outputs": [],
   "metadata": {}
  },
  {
   "cell_type": "code",
   "execution_count": null,
   "source": [
    "key = \"5b3ce3597851110001cf6248d72aa2cd1d544d549b16f94c14b65e0d\""
   ],
   "outputs": [],
   "metadata": {}
  },
  {
   "cell_type": "code",
   "execution_count": null,
   "source": [
    "locations = pd.read_csv(\"Data/WoolworthsLocations.csv\")\r\n",
    "coords = locations[['Long', 'Lat']] \r\n",
    "coords = coords.to_numpy().tolist()"
   ],
   "outputs": [],
   "metadata": {}
  },
  {
   "cell_type": "code",
   "execution_count": null,
   "source": [
    "m1 = folium.Map(location=list(reversed(coords[2])), zoom_start=10)\r\n",
    "m2 = folium.Map(location=list(reversed(coords[2])), zoom_start=10)\r\n",
    "\r\n",
    "for i in range(0, len(coords)):\r\n",
    "    if locations.Type[i] == \"Countdown\":\r\n",
    "        iconCol = \"green\"\r\n",
    "    elif locations.Type[i] == \"FreshChoice\":\r\n",
    "        iconCol = \"blue\"\r\n",
    "    elif locations.Type[i] == \"SuperValue\":\r\n",
    "        iconCol = \"red\"\r\n",
    "    elif locations.Type[i] == \"Countdown Metro\":\r\n",
    "        iconCol = \"orange\"\r\n",
    "    elif locations.Type[i] == \"Distribution Centre\":\r\n",
    "        iconCol = \"black\"\r\n",
    "    \r\n",
    "    folium.Marker(list(reversed(coords[i])), popup=locations.Store[i], icon=folium.Icon(color = iconCol)).add_to(m1)\r\n",
    "    folium.Marker(list(reversed(coords[i])), popup=locations.Store[i], icon=folium.Icon(color = iconCol)).add_to(m2)"
   ],
   "outputs": [],
   "metadata": {}
  },
  {
   "cell_type": "code",
   "execution_count": null,
   "source": [
    "client = ors.Client(key=key)\r\n",
    "coords_df = pd.read_csv(\"Data/WoolworthsLocations.csv\", index_col=\"Store\")[[\"Lat\", \"Long\"]]\r\n",
    "regions = pd.read_csv(\"GeneratedFiles/WoolworthsRegions.csv\", index_col=\"Store\")[\"Region\"]"
   ],
   "outputs": [],
   "metadata": {}
  },
  {
   "cell_type": "code",
   "execution_count": null,
   "source": [
    "routes = pd.read_csv(\"GeneratedFiles/WeekdaysSolution.csv\")[\"Path\"]\r\n",
    "routes = [routes[i][2:-2].split(\"', '\") for i in range(len(routes))]\r\n",
    "\r\n",
    "for path in routes:\r\n",
    "    region = regions[path[0]]\r\n",
    "    if region == 1:\r\n",
    "        colour = \"red\"\r\n",
    "    elif region == 2:\r\n",
    "        colour = \"blue\"\r\n",
    "    elif region == 3:\r\n",
    "        colour = \"green\"\r\n",
    "    elif region == 4:\r\n",
    "        colour = \"purple\"\r\n",
    "    else:\r\n",
    "        colour = \"orange\"\r\n",
    "\r\n",
    "    path = [\"Distribution Centre Auckland\"] + path + [\"Distribution Centre Auckland\"]\r\n",
    "\r\n",
    "    route = client.directions(\r\n",
    "        coordinates = [list(reversed(coords_df.loc[p].values.tolist())) for p in path],\r\n",
    "        profile = 'driving-hgv', # can be driving-car, driving-hgv, etc.\r\n",
    "        format='geojson',\r\n",
    "        validate = False\r\n",
    "    )\r\n",
    "\r\n",
    "    folium.PolyLine(locations=[list(reversed(coord)) for coord in route['features'][0]['geometry']['coordinates']], color=colour).add_to(m1)\r\n",
    "\r\n",
    "m1"
   ],
   "outputs": [],
   "metadata": {}
  },
  {
   "cell_type": "code",
   "execution_count": null,
   "source": [
    "routes = pd.read_csv(\"GeneratedFiles/SaturdaysSolution.csv\")[\"Path\"]\r\n",
    "routes = [routes[i][2:-2].split(\"', '\") for i in range(len(routes))]\r\n",
    "\r\n",
    "for path in routes:\r\n",
    "    region = regions[path[0]]\r\n",
    "    if region == 1:\r\n",
    "        colour = \"red\"\r\n",
    "    elif region == 2:\r\n",
    "        colour = \"blue\"\r\n",
    "    elif region == 3:\r\n",
    "        colour = \"green\"\r\n",
    "    elif region == 4:\r\n",
    "        colour = \"purple\"\r\n",
    "    else:\r\n",
    "        colour = \"orange\"\r\n",
    "\r\n",
    "    path = [\"Distribution Centre Auckland\"] + path + [\"Distribution Centre Auckland\"]\r\n",
    "\r\n",
    "    route = client.directions(\r\n",
    "        coordinates = [list(reversed(coords_df.loc[p].values.tolist())) for p in path],\r\n",
    "        profile = 'driving-hgv', # can be driving-car, driving-hgv, etc.\r\n",
    "        format='geojson',\r\n",
    "        validate = False\r\n",
    "    )\r\n",
    "\r\n",
    "    folium.PolyLine(locations=[list(reversed(coord)) for coord in route['features'][0]['geometry']['coordinates']], color=colour).add_to(m2)\r\n",
    "\r\n",
    "m2"
   ],
   "outputs": [],
   "metadata": {}
  }
 ],
 "metadata": {
  "orig_nbformat": 4,
  "language_info": {
   "name": "python",
   "version": "3.9.0",
   "mimetype": "text/x-python",
   "codemirror_mode": {
    "name": "ipython",
    "version": 3
   },
   "pygments_lexer": "ipython3",
   "nbconvert_exporter": "python",
   "file_extension": ".py"
  },
  "kernelspec": {
   "name": "python3",
   "display_name": "Python 3.9.0 64-bit"
  },
  "interpreter": {
   "hash": "2bba59fafacf472ee6846c48c58ef7c87c81ffc1921c28929918468d9e4661db"
  }
 },
 "nbformat": 4,
 "nbformat_minor": 2
}