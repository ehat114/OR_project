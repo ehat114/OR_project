{
 "cells": [
  {
   "cell_type": "code",
   "execution_count": 7,
   "metadata": {},
   "outputs": [],
   "source": [
    "import pandas as pd\n",
    "import matplotlib.pyplot as plt\n",
    "import numpy as np\n",
    "from scipy import stats\n",
    "import pickle\n",
    "from Simulation import getCost"
   ]
  },
  {
   "cell_type": "code",
   "execution_count": 8,
   "metadata": {},
   "outputs": [],
   "source": [
    "# demands table\n",
    "demandData = pd.read_csv(\"Data/WoolworthsDemands.csv\", index_col=\"Store\").transpose()\n",
    "demandData.index = pd.to_datetime(demandData.index)  \n",
    "weekdays = demandData.loc[(demandData.index.weekday!=5) & (demandData.index.weekday!=6)].transpose()\n",
    "saturdays = demandData.loc[demandData.index.weekday==5].transpose()\n",
    "\n",
    "# adjacency matrix\n",
    "adj = pd.read_csv(\"Data/WoolworthsTravelDurations.csv\", index_col=0)\n",
    "# routes\n",
    "satRoutes = pd.read_csv(\"GeneratedFiles/SaturdaysSolution.csv\")[\"Path\"]\n",
    "weekRoutes = pd.read_csv(\"GeneratedFiles/WeekdaysSolution.csv\")[\"Path\"]\n",
    "\n",
    "satRoutes = [satRoutes[i][2:-2].split(\"', '\") for i in range(len(satRoutes))]\n",
    "weekRoutes = [weekRoutes[i][2:-2].split(\"', '\") for i in range(len(weekRoutes))]\n",
    "\n",
    "satExp = pd.read_csv(\"GeneratedFiles/SaturdaysSolution.csv\")[\"Total Cost\"].tolist()[0]\n",
    "weekExp = pd.read_csv(\"GeneratedFiles/WeekdaysSolution.csv\")[\"Total Cost\"].tolist()[0]"
   ]
  },
  {
   "cell_type": "code",
   "execution_count": 9,
   "metadata": {},
   "outputs": [],
   "source": [
    "iterations = 100\n",
    "weekCosts = [[0]*iterations]*iterations\n",
    "\n",
    "weekCosts = [np.mean([getCost(path, adj, weekdays) for j in range(iterations)]) for i in range(iterations)]"
   ]
  },
  {
   "cell_type": "code",
   "execution_count": 11,
   "metadata": {},
   "outputs": [
    {
     "data": {
      "text/plain": [
       "[901.8254250000001,\n",
       " 946.1799673611112,\n",
       " 1069.532957638889,\n",
       " 1066.5931631944445,\n",
       " 903.6118020833333,\n",
       " 948.5291902777778,\n",
       " 1024.916059027778,\n",
       " 1009.4421819444447,\n",
       " 883.8827979166666,\n",
       " 1071.2608854166667,\n",
       " 1032.098970138889,\n",
       " 965.8611222222223,\n",
       " 1049.1817861111113,\n",
       " 962.8734784722222,\n",
       " 1044.4524361111114,\n",
       " 1051.4556145833333,\n",
       " 1038.1858368055555,\n",
       " 1093.0312013888888,\n",
       " 1066.4240187500002,\n",
       " 888.7698083333333,\n",
       " 1026.0121034722222,\n",
       " 966.7696666666667,\n",
       " 888.0289861111112,\n",
       " 1043.378463888889,\n",
       " 951.4809951388888,\n",
       " 963.5191284722222,\n",
       " 1080.5045402777778,\n",
       " 1032.3779256944445,\n",
       " 1099.9067395833333,\n",
       " 876.6921194444443,\n",
       " 882.6107256944446,\n",
       " 1027.9496034722222,\n",
       " 1051.1040972222224,\n",
       " 1067.645601388889,\n",
       " 952.1776729166667,\n",
       " 945.2043340277779,\n",
       " 933.2800624999999,\n",
       " 966.1492555555556,\n",
       " 1047.7245083333335,\n",
       " 1072.689207638889,\n",
       " 1052.3540972222222,\n",
       " 1067.4727520833333,\n",
       " 1049.0880361111113,\n",
       " 1001.687054861111,\n",
       " 972.7315333333332,\n",
       " 1033.78188125,\n",
       " 987.9599993055556,\n",
       " 1020.3125930555557,\n",
       " 984.6985270833335,\n",
       " 1128.8447777777778,\n",
       " 897.1356305555554,\n",
       " 1064.4727520833333,\n",
       " 983.3524826388889,\n",
       " 1095.6539069444445,\n",
       " 989.7724993055557,\n",
       " 993.4513597222223,\n",
       " 914.8953465277777,\n",
       " 1029.8268979166667,\n",
       " 1081.7857902777778,\n",
       " 966.9571666666667,\n",
       " 1014.0115652777779,\n",
       " 1111.7459006944446,\n",
       " 1005.944476388889,\n",
       " 1003.5474041666666,\n",
       " 910.5157576388889,\n",
       " 1029.723970138889,\n",
       " 1052.056786111111,\n",
       " 1050.1307583333335,\n",
       " 986.2945715277779,\n",
       " 1093.4153791666668,\n",
       " 1081.2760743055558,\n",
       " 958.5839229166664,\n",
       " 958.6570229166667,\n",
       " 1036.5318812500002,\n",
       " 981.5224993055556,\n",
       " 1006.1457430555555,\n",
       " 973.608827777778,\n",
       " 968.2673722222223,\n",
       " 978.9479888888887,\n",
       " 918.1003298611113,\n",
       " 980.5036055555555,\n",
       " 1035.1018027777777,\n",
       " 959.00765625,\n",
       " 1008.9665486111112,\n",
       " 995.2160104166667,\n",
       " 971.1423722222223,\n",
       " 966.9190333333332,\n",
       " 1091.209523611111,\n",
       " 914.4730354166667,\n",
       " 1063.6000465277777,\n",
       " 1051.9363750000002,\n",
       " 932.8242069444444,\n",
       " 884.10843125,\n",
       " 1064.061375,\n",
       " 1004.1967708333334,\n",
       " 1107.9692395833333,\n",
       " 993.41039375,\n",
       " 908.1743020833333,\n",
       " 970.8009166666665,\n",
       " 1051.5415972222222]"
      ]
     },
     "execution_count": 11,
     "metadata": {},
     "output_type": "execute_result"
    }
   ],
   "source": [
    "weekCosts"
   ]
  },
  {
   "cell_type": "code",
   "execution_count": null,
   "metadata": {},
   "outputs": [],
   "source": [
    "with open(\"GeneratedFiles/SimCosts.pickle\", \"rb\") as fp:\n",
    "    weekCosts, satCosts = pickle.load(fp)"
   ]
  },
  {
   "cell_type": "code",
   "execution_count": 10,
   "metadata": {},
   "outputs": [
    {
     "data": {
      "image/png": "[encoded data removed]",
      "text/plain": [
       "<Figure size 432x288 with 2 Axes>"
      ]
     },
     "metadata": {
      "needs_background": "light"
     },
     "output_type": "display_data"
    }
   ],
   "source": [
    "satLabel = \"p-value = {:.2e}\".format(stats.ttest_1samp(satCosts, satExp)[1])\n",
    "weekLabel = \"p-value = {:.2e}\".format(stats.ttest_1samp(weekCosts, weekExp)[1])\n",
    "\n",
    "fig, (ax1, ax2) = plt.subplots(1, 2)\n",
    "ax1.hist(satCosts, density=True, histtype=\"stepfilled\", alpha=0.2, bins=12)\n",
    "ax1.plot([], color=\"white\", label=satLabel)\n",
    "ax1.axvline(satExp, color='r', linestyle='dashed', linewidth=1)\n",
    "ax1.axvline(np.mean(satCosts), color='b', linestyle='dashed', linewidth=1)\n",
    "ax1.set_title('Saturdays')\n",
    "ax1.set_xlabel(\"Cost per Saturdays [$]\")\n",
    "ax1.legend(frameon=False)\n",
    "\n",
    "ax2.hist(weekCosts, density=True, histtype=\"stepfilled\", alpha=0.2, bins=12)\n",
    "ax2.plot([], color=\"white\", label=weekLabel)\n",
    "ax2.axvline(weekExp, color='r', linestyle='dashed', linewidth=1)\n",
    "ax2.axvline(np.mean(weekCosts), color='b', linestyle='dashed', linewidth=1)\n",
    "ax2.set_title(\"Weekdays\")\n",
    "ax2.set_xlabel(\"Cost per Weekday [$]\")\n",
    "ax2.legend(frameon=False)\n",
    "\n",
    "fig.tight_layout()\n",
    "\n",
    "plt.show()"
   ]
  },
  {
   "cell_type": "code",
   "execution_count": null,
   "metadata": {},
   "outputs": [],
   "source": []
  }
 ],
 "metadata": {
  "interpreter": {
   "hash": "2bba59fafacf472ee6846c48c58ef7c87c81ffc1921c28929918468d9e4661db"
  },
  "kernelspec": {
   "display_name": "Python 3",
   "language": "python",
   "name": "python3"
  },
  "language_info": {
   "codemirror_mode": {
    "name": "ipython",
    "version": 3
   },
   "file_extension": ".py",
   "mimetype": "text/x-python",
   "name": "python",
   "nbconvert_exporter": "python",
   "pygments_lexer": "ipython3",
   "version": "3.9.0"
  }
 },
 "nbformat": 4,
 "nbformat_minor": 2
}
